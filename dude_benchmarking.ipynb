{
 "cells": [
  {
   "cell_type": "markdown",
   "metadata": {},
   "source": [
    "# Benchmark FEPOPS using the DUDE diversity set\n",
    "Collect AUROC scores and compare against Morgan 2 and RDKit fingeprints\n",
    "<hr>"
   ]
  },
  {
   "cell_type": "code",
   "execution_count": 26,
   "metadata": {},
   "outputs": [
    {
     "name": "stdout",
     "output_type": "stream",
     "text": [
      "Got 1 diversity_set_csv_files : ['dude_target_cxcr4']\n"
     ]
    }
   ],
   "source": [
    "import time\n",
    "import numpy as np\n",
    "from tqdm import tqdm\n",
    "from rdkit.Chem import rdMolDescriptors\n",
    "\n",
    "from fepops import OpenFEPOPS\n",
    "from dataclasses import dataclass\n",
    "from typing import Callable, Union, Optional\n",
    "from pathlib import Path\n",
    "import pandas as pd\n",
    "from rdkit.Chem import rdMolDescriptors\n",
    "from rdkit.Chem import AllChem\n",
    "from rdkit.Chem import DataStructs\n",
    "from sklearn.metrics import roc_auc_score\n",
    "from fepops.fepops_persistent import get_persistent_fepops_storage_object\n",
    "from typing import Union, Optional\n",
    "from fepops import OpenFEPOPS\n",
    "from fepops.fepops_persistent import get_persistent_fepops_storage_object\n",
    "from fepops.fepops import GetFepopStatusCode\n",
    "import json\n",
    "\n",
    "open_fepops_object=OpenFEPOPS()\n",
    "\n",
    "@dataclass\n",
    "class SimilarityMethod:\n",
    "    name: str\n",
    "    supports_multiple_candidates: bool\n",
    "    descriptor_calc_func: Optional[Callable] = None\n",
    "    descriptor_score_func: Optional[Callable] = None\n",
    "\n",
    "\n",
    "# OpenFEPOPS will be added to this as a persistent object, reading from a DB of cached\n",
    "# molecules for each target in the diversity set\n",
    "similarity_methods = {\n",
    "    'Morgan 2': SimilarityMethod(\n",
    "        \"Morgan 2\",\n",
    "        False,\n",
    "        lambda x: AllChem.GetMorganFingerprint(open_fepops_object._mol_from_smiles(x), 2),\n",
    "        lambda x, y: DataStructs.TanimotoSimilarity(x,y),\n",
    "    ),\n",
    "    'MACCS': SimilarityMethod(\n",
    "        \"MACCS\",\n",
    "        False,\n",
    "        lambda x: rdMolDescriptors.GetMACCSKeysFingerprint(open_fepops_object._mol_from_smiles(x)),\n",
    "        lambda x, y: DataStructs.TanimotoSimilarity(x,y),\n",
    "    ),\n",
    "}\n",
    "\n",
    "diversity_set_csv_files = list(Path(\"data/dude/processed/diversity_set/\").glob(\"dude_target_cxcr*.csv\"))\n",
    "print(f\"Got {len(diversity_set_csv_files)} diversity_set_csv_files : {[f.stem for f in diversity_set_csv_files]}\")\n",
    "for csv_file_path in diversity_set_csv_files:\n",
    "    pd.read_csv(csv_file_path,sep=\",\",\n",
    "        index_col=[0],\n",
    "        header=0,\n",
    "        ).loc[:,['rdkit_canonical_smiles', 'DUDEID']].reset_index().to_csv(csv_file_path.with_suffix(\".smi\"), sep=\" \", index=None, header=False)\n",
    "    "
   ]
  },
  {
   "cell_type": "code",
   "execution_count": 30,
   "metadata": {},
   "outputs": [
    {
     "name": "stdout",
     "output_type": "stream",
     "text": [
      "                                              SMILES  DUDEID       CHEMBLID  \\\n",
      "0                   c1ccnc(c1)NCc2ccc(cc2)CNc3ccccn3  403120   CHEMBL237830   \n",
      "1       c1cc(ccc1CN2CCCNCCNCCCNCC2)CN3CCCNCCNCCCNCC3   20346    CHEMBL18442   \n",
      "2  c1cc2nc(c1)CCNCCN(CCNCC2)Cc3ccc(cc3)CN4CCNCCc5...  676182  CHEMBL1202231   \n",
      "3    CC1(CN2C(=CSC2=N1)CS/C(=N\\C3CCCCC3)/NC4CCCCC4)C  454523   CHEMBL460491   \n",
      "4  CC1(CN2C(=CSC2=N1)CS/C(=N\\C3CCCCCC3)/NC4CCCCCC4)C  454524   CHEMBL518501   \n",
      "\n",
      "   Active                             rdkit_canonical_smiles  \n",
      "0       1                   c1ccc(NCc2ccc(CNc3ccccn3)cc2)nc1  \n",
      "1       1       c1cc(CN2CCCNCCNCCCNCC2)ccc1CN1CCCNCCNCCCNCC1  \n",
      "2       1  c1cc2nc(c1)CCNCCN(Cc1ccc(CN3CCNCCc4cccc(n4)CCN...  \n",
      "3       1     CC1(C)CN2C(CS/C(=N\\C3CCCCC3)NC3CCCCC3)=CSC2=N1  \n",
      "4       1   CC1(C)CN2C(CS/C(=N\\C3CCCCCC3)NC3CCCCCC3)=CSC2=N1  \n"
     ]
    },
    {
     "name": "stderr",
     "output_type": "stream",
     "text": [
      "Caching Morgan 2 descriptors for dude_target_cxcr4: 3446it [00:01, 2343.81it/s]\n",
      "Caching MACCS descriptors for dude_target_cxcr4: 3446it [00:05, 608.11it/s]\n",
      "Caching OpenFEPOPS descriptors for dude_target_cxcr4: 3446it [00:00, 4735.22it/s]\n",
      "Assessing active recall (AUROC) for Morgan 2: 100%|██████████| 40/40 [00:00<00:00, 62.09it/s]\n",
      "Assessing active recall (AUROC) for MACCS: 100%|██████████| 40/40 [00:00<00:00, 79.36it/s]\n",
      "Assessing active recall (AUROC) for OpenFEPOPS: 100%|██████████| 40/40 [00:23<00:00,  1.67it/s]"
     ]
    },
    {
     "name": "stdout",
     "output_type": "stream",
     "text": [
      "Writing to  data/dude/processed/diversity_set\n",
      "  target similarity_method smiles_count actives_count failed_smiles  \\\n",
      "0  cxcr4          Morgan 2         3446            40             0   \n",
      "1  cxcr4             MACCS         3446            40             0   \n",
      "2  cxcr4        OpenFEPOPS         3446            40             0   \n",
      "\n",
      "  failed_active_smiles average_auroc_score median_auroc_score q1_auroc_score  \\\n",
      "0                    0            0.697226           0.742565       0.446526   \n",
      "1                    0            0.854251           0.910375       0.208633   \n",
      "2                    0            0.898971           0.949655       0.386533   \n",
      "\n",
      "  q3_auroc_score  \n",
      "0       0.468805  \n",
      "1       0.251604  \n",
      "2       0.416588  \n",
      "  target similarity_method smiles_count actives_count failed_smiles  \\\n",
      "0  cxcr4          Morgan 2         3446            40             0   \n",
      "1  cxcr4             MACCS         3446            40             0   \n",
      "2  cxcr4        OpenFEPOPS         3446            40             0   \n",
      "\n",
      "  failed_active_smiles average_auroc_score median_auroc_score q1_auroc_score  \\\n",
      "0                    0            0.697226           0.742565       0.446526   \n",
      "1                    0            0.854251           0.910375       0.208633   \n",
      "2                    0            0.898971           0.949655       0.386533   \n",
      "\n",
      "  q3_auroc_score  \n",
      "0       0.468805  \n",
      "1       0.251604  \n",
      "2       0.416588  \n"
     ]
    },
    {
     "name": "stderr",
     "output_type": "stream",
     "text": [
      "\n"
     ]
    }
   ],
   "source": [
    "auroc_scores_info_df=pd.DataFrame()\n",
    "\n",
    "for csv_file_path in diversity_set_csv_files:\n",
    "    \n",
    "    # We replace the OpenFepops similarity object at each new diversity CSV file\n",
    "    # so that new databases may be loaded for speed of descriptor retrieval.\n",
    "    ofepops_persistent=get_persistent_fepops_storage_object(csv_file_path.with_suffix(\".db\"))\n",
    "    similarity_methods['OpenFEPOPS']=SimilarityMethod(\n",
    "        \"OpenFEPOPS\",\n",
    "        True,\n",
    "        lambda x: ofepops_persistent.get_fepops(x, is_canonical=True),\n",
    "        ofepops_persistent.calc_similarity,\n",
    "    )\n",
    "    \n",
    "    df=pd.read_csv(csv_file_path,sep=\",\",\n",
    "                index_col=[0],\n",
    "                header=0,\n",
    "            ).reset_index()\n",
    "    print(df.head())\n",
    "    descriptors={k:[] for k in similarity_methods.keys()}\n",
    "    smiles_list = df['rdkit_canonical_smiles'].tolist()\n",
    "    labels_list = df['Active'].astype(int).tolist()\n",
    "    problematic_compound_indexes=[]\n",
    "    for sm_name, sm in similarity_methods.items():\n",
    "        # Cache all descriptors for each molecular similarity technique, as some mols may be bad and have to be removed\n",
    "        for smiles_i, smiles in tqdm(enumerate(smiles_list), desc=f\"Caching {sm_name} descriptors for {csv_file_path.stem}\"):\n",
    "            res = sm.descriptor_calc_func(smiles)\n",
    "            if isinstance(res, tuple):\n",
    "                if res[0]==GetFepopStatusCode.FAILED_RETRIEVED_NONE or res[0]==GetFepopStatusCode.FAILED_TO_GENERATE or res[0]==GetFepopStatusCode.FAILED_TO_RETRIEVE or res[1] is None:\n",
    "                    print(f\"Problem with {smiles}, {res}\")\n",
    "                    problematic_compound_indexes.append(smiles_i)\n",
    "                    descriptors[sm_name].append(np.nan)\n",
    "                else:                    \n",
    "                    descriptors[sm_name].append(res[-1])\n",
    "            else:\n",
    "                if res is None:\n",
    "                    problematic_compound_indexes.append(smiles_i)\n",
    "                descriptors[sm_name].append(res)\n",
    "    # Remove failed molecules from pool of descriptors and labels\n",
    "    for k,v in descriptors.items():\n",
    "        descriptors[k]=[v[ii] for ii in range(len(v)) if ii not in problematic_compound_indexes]\n",
    "    labels_list=[labels_list[ii] for ii in range(len(labels_list)) if ii not in problematic_compound_indexes]\n",
    "    auroc_scores={smn:[] for smn in similarity_methods.keys()}\n",
    "    \n",
    "    info=pd.Series(dtype=object)\n",
    "    for sm_name, sm in similarity_methods.items():\n",
    "        # Remove entries which did not return a mol\n",
    "        info['target']=csv_file_path.stem.replace(\"dude_target_\",\"\")\n",
    "        info['similarity_method']=sm_name\n",
    "        info['smiles_count']=len(smiles_list)\n",
    "        info['actives_count']=np.sum(labels_list)\n",
    "        info['failed_smiles']=len(problematic_compound_indexes)\n",
    "        info['failed_active_smiles']=len([ft for ft in problematic_compound_indexes if labels_list[ft]==1])\n",
    "        for active_i in tqdm(\n",
    "                np.argwhere(np.array(labels_list) == 1).flatten(),\n",
    "                desc=f\"Assessing active recall (AUROC) for {sm.name}\",\n",
    "            ):\n",
    "            if sm.supports_multiple_candidates:\n",
    "                scores = np.array(\n",
    "                    sm.descriptor_score_func(\n",
    "                        descriptors[sm_name][active_i], descriptors[sm_name]\n",
    "                    ),\n",
    "                    dtype=float,\n",
    "                ).flatten()\n",
    "            else:\n",
    "                scores = np.array(\n",
    "                    [\n",
    "                        sm.descriptor_score_func(\n",
    "                            descriptors[sm_name][active_i], descriptors[sm_name][smiles_i]\n",
    "                        )\n",
    "                        for smiles_i in range(len(descriptors[sm_name]))\n",
    "                    ],\n",
    "                    dtype=float,\n",
    "                ).flatten()\n",
    "            \n",
    "            auroc_scores[sm_name].append(roc_auc_score(\n",
    "                np.array(labels_list)[np.argwhere(~np.isnan(scores))],\n",
    "                scores[np.argwhere(~np.isnan(scores))],\n",
    "                )\n",
    "            )\n",
    "        info['average_auroc_score']=np.mean(auroc_scores[sm_name])\n",
    "        info['median_auroc_score']=np.median(auroc_scores[sm_name])\n",
    "        info['q1_auroc_score']=np.percentile(auroc_scores[sm_name],0.25)\n",
    "        info['q3_auroc_score']=np.percentile(auroc_scores[sm_name],0.75)\n",
    "        auroc_scores_info_df=pd.concat([auroc_scores_info_df, info.to_frame().T], ignore_index=True, axis=0)\n",
    "    print(\"Writing to \", csv_file_path.parent)\n",
    "\n",
    "    json.dump(auroc_scores,open(csv_file_path.parent/Path(f\"res_scores_{csv_file_path.stem}.json\"),\"w\"))\n",
    "    print(auroc_scores_info_df)\n",
    "auroc_scores_info_df.to_csv(csv_file_path.parent/Path(f\"res_df_{csv_file_path.stem}.csv\"))\n",
    "        \n",
    "print(auroc_scores_info_df)\n",
    "    \n"
   ]
  },
  {
   "cell_type": "code",
   "execution_count": null,
   "metadata": {},
   "outputs": [],
   "source": []
  },
  {
   "cell_type": "code",
   "execution_count": 2,
   "metadata": {},
   "outputs": [
    {
     "name": "stderr",
     "output_type": "stream",
     "text": [
      "Caching descriptors for Morgan:   0%|          | 0/3446 [00:00<?, ?it/s]"
     ]
    },
    {
     "name": "stderr",
     "output_type": "stream",
     "text": [
      "Caching descriptors for Morgan: 100%|██████████| 3446/3446 [00:00<00:00, 5342.35it/s]\n",
      "Caching descriptors for FEPOPS: 100%|██████████| 3446/3446 [00:00<00:00, 8624.96it/s]\n",
      "Assessing active recall (AUROC) for Morgan: 100%|██████████| 40/40 [00:00<00:00, 132.70it/s]\n",
      "Assessing active recall (AUROC) for FEPOPS:   0%|          | 0/40 [00:00<?, ?it/s]\n"
     ]
    },
    {
     "ename": "ValueError",
     "evalue": "matmul: Input operand 1 has a mismatch in its core dimension 0, with gufunc signature (n?,k),(k,m?)->(n?,m?) (size 88 is different from 154)",
     "output_type": "error",
     "traceback": [
      "\u001b[0;31m---------------------------------------------------------------------------\u001b[0m",
      "\u001b[0;31mValueError\u001b[0m                                Traceback (most recent call last)",
      "Cell \u001b[0;32mIn[2], line 2\u001b[0m\n\u001b[1;32m      1\u001b[0m fb\u001b[39m=\u001b[39mFepopsBenchmarker(\u001b[39m\"\u001b[39m\u001b[39mdata/dude/processed/diversity_set/dude_target_cxcr4.db\u001b[39m\u001b[39m\"\u001b[39m)\n\u001b[0;32m----> 2\u001b[0m fb\u001b[39m.\u001b[39;49mauroc_performance(\u001b[39m\"\u001b[39;49m\u001b[39mdata/dude/processed/diversity_set/dude_target_cxcr4.csv\u001b[39;49m\u001b[39m\"\u001b[39;49m)\n",
      "Cell \u001b[0;32mIn[1], line 397\u001b[0m, in \u001b[0;36mFepopsBenchmarker.auroc_performance\u001b[0;34m(self, data_tsv, data_tsv_contains_canonical_smiles, smiles_column_title, active_flag_column_title, results_output_dir)\u001b[0m\n\u001b[1;32m    365\u001b[0m \u001b[39mdef\u001b[39;00m \u001b[39mauroc_performance\u001b[39m(\n\u001b[1;32m    366\u001b[0m     \u001b[39mself\u001b[39m,\n\u001b[1;32m    367\u001b[0m     data_tsv: Union[Path, \u001b[39mstr\u001b[39m],\n\u001b[0;32m   (...)\u001b[0m\n\u001b[1;32m    371\u001b[0m     results_output_dir: Optional[Union[\u001b[39mstr\u001b[39m, Path]] \u001b[39m=\u001b[39m \u001b[39mNone\u001b[39;00m,\n\u001b[1;32m    372\u001b[0m ):\n\u001b[1;32m    373\u001b[0m     roc_scorer \u001b[39m=\u001b[39m ROCScorer(\n\u001b[1;32m    374\u001b[0m         [\n\u001b[1;32m    375\u001b[0m             SimilarityMethod(\n\u001b[0;32m   (...)\u001b[0m\n\u001b[1;32m    395\u001b[0m         ]\n\u001b[1;32m    396\u001b[0m     )\n\u001b[0;32m--> 397\u001b[0m     scores_dict \u001b[39m=\u001b[39m roc_scorer\u001b[39m.\u001b[39;49mget_auroc_scores(\n\u001b[1;32m    398\u001b[0m         pd\u001b[39m.\u001b[39;49mread_csv(\n\u001b[1;32m    399\u001b[0m             Path(data_tsv),\n\u001b[1;32m    400\u001b[0m             sep\u001b[39m=\u001b[39;49m\u001b[39m\"\u001b[39;49m\u001b[39m,\u001b[39;49m\u001b[39m\"\u001b[39;49m,\n\u001b[1;32m    401\u001b[0m             index_col\u001b[39m=\u001b[39;49m[\u001b[39m0\u001b[39;49m],\n\u001b[1;32m    402\u001b[0m             header\u001b[39m=\u001b[39;49m\u001b[39m0\u001b[39;49m,\n\u001b[1;32m    403\u001b[0m         )\u001b[39m.\u001b[39;49mreset_index(),\n\u001b[1;32m    404\u001b[0m         smiles_column_title\u001b[39m=\u001b[39;49msmiles_column_title,\n\u001b[1;32m    405\u001b[0m         active_flag_column_title\u001b[39m=\u001b[39;49mactive_flag_column_title,\n\u001b[1;32m    406\u001b[0m     )\n\u001b[1;32m    407\u001b[0m     auroc_results_df \u001b[39m=\u001b[39m pd\u001b[39m.\u001b[39mDataFrame\u001b[39m.\u001b[39mfrom_dict(scores_dict)\n\u001b[1;32m    408\u001b[0m     \u001b[39mif\u001b[39;00m results_output_dir \u001b[39mis\u001b[39;00m \u001b[39mNone\u001b[39;00m:\n",
      "Cell \u001b[0;32mIn[1], line 192\u001b[0m, in \u001b[0;36mROCScorer.get_auroc_scores\u001b[0;34m(self, df, smiles_column_title, active_flag_column_title)\u001b[0m\n\u001b[1;32m    186\u001b[0m \u001b[39mfor\u001b[39;00m active_i \u001b[39min\u001b[39;00m tqdm(\n\u001b[1;32m    187\u001b[0m     np\u001b[39m.\u001b[39margwhere(np\u001b[39m.\u001b[39marray(labels_list) \u001b[39m==\u001b[39m \u001b[39m1\u001b[39m)\u001b[39m.\u001b[39mflatten(),\n\u001b[1;32m    188\u001b[0m     desc\u001b[39m=\u001b[39m\u001b[39mf\u001b[39m\u001b[39m\"\u001b[39m\u001b[39mAssessing active recall (AUROC) for \u001b[39m\u001b[39m{\u001b[39;00msm\u001b[39m.\u001b[39mname\u001b[39m}\u001b[39;00m\u001b[39m\"\u001b[39m,\n\u001b[1;32m    189\u001b[0m ):\n\u001b[1;32m    190\u001b[0m     \u001b[39mif\u001b[39;00m sm\u001b[39m.\u001b[39msupports_multiple_candidates:\n\u001b[1;32m    191\u001b[0m         scores \u001b[39m=\u001b[39m np\u001b[39m.\u001b[39marray(\n\u001b[0;32m--> 192\u001b[0m             sm\u001b[39m.\u001b[39;49mdescriptor_score_func(\n\u001b[1;32m    193\u001b[0m                 descriptors[sm_i][active_i], descriptors[sm_i]\n\u001b[1;32m    194\u001b[0m             ),\n\u001b[1;32m    195\u001b[0m             dtype\u001b[39m=\u001b[39m\u001b[39mfloat\u001b[39m,\n\u001b[1;32m    196\u001b[0m         )\n\u001b[1;32m    197\u001b[0m     \u001b[39melse\u001b[39;00m:\n\u001b[1;32m    198\u001b[0m         scores \u001b[39m=\u001b[39m np\u001b[39m.\u001b[39marray(\n\u001b[1;32m    199\u001b[0m             [\n\u001b[1;32m    200\u001b[0m                 sm\u001b[39m.\u001b[39mdescriptor_score_func(\n\u001b[0;32m   (...)\u001b[0m\n\u001b[1;32m    205\u001b[0m             dtype\u001b[39m=\u001b[39m\u001b[39mfloat\u001b[39m,\n\u001b[1;32m    206\u001b[0m         )\n",
      "File \u001b[0;32m~/code/FEPOPS/src/fepops/fepops_persistent/fepops_persistent_abc.py:302\u001b[0m, in \u001b[0;36mFepopsPersistentAbstractBaseClass.calc_similarity\u001b[0;34m(self, fepops_features_1, fepops_features_2, is_canonical)\u001b[0m\n\u001b[1;32m    298\u001b[0m         status, fpop \u001b[39m=\u001b[39m \u001b[39mself\u001b[39m\u001b[39m.\u001b[39mget_fepops(item, is_canonical\u001b[39m=\u001b[39mis_canonical)\n\u001b[1;32m    299\u001b[0m         new_fepops_features_2\u001b[39m.\u001b[39mappend(\n\u001b[1;32m    300\u001b[0m             fpop \u001b[39mif\u001b[39;00m status \u001b[39m==\u001b[39m GetFepopStatusCode\u001b[39m.\u001b[39mSUCCESS \u001b[39melse\u001b[39;00m \u001b[39mNone\u001b[39;00m\n\u001b[1;32m    301\u001b[0m         )\n\u001b[0;32m--> 302\u001b[0m     \u001b[39mreturn\u001b[39;00m \u001b[39mself\u001b[39;49m\u001b[39m.\u001b[39;49mfepops_object\u001b[39m.\u001b[39;49mcalc_similarity(\n\u001b[1;32m    303\u001b[0m         fepops_features_1, new_fepops_features_2\n\u001b[1;32m    304\u001b[0m     )\n\u001b[1;32m    306\u001b[0m \u001b[39mif\u001b[39;00m \u001b[39misinstance\u001b[39m(fepops_features_2, (\u001b[39mstr\u001b[39m, Chem\u001b[39m.\u001b[39mrdchem\u001b[39m.\u001b[39mMol)):\n\u001b[1;32m    307\u001b[0m     status, fepops_features_2 \u001b[39m=\u001b[39m \u001b[39mself\u001b[39m\u001b[39m.\u001b[39mget_fepops(\n\u001b[1;32m    308\u001b[0m         fepops_features_2, is_canonical\u001b[39m=\u001b[39mis_canonical\n\u001b[1;32m    309\u001b[0m     )\n",
      "File \u001b[0;32m~/code/FEPOPS/src/fepops/fepops.py:841\u001b[0m, in \u001b[0;36mOpenFEPOPS.calc_similarity\u001b[0;34m(self, query, candidate)\u001b[0m\n\u001b[1;32m    839\u001b[0m     scores \u001b[39m=\u001b[39m []\n\u001b[1;32m    840\u001b[0m     \u001b[39mfor\u001b[39;00m c \u001b[39min\u001b[39;00m candidate:\n\u001b[0;32m--> 841\u001b[0m         scores\u001b[39m.\u001b[39mappend(\u001b[39mself\u001b[39;49m\u001b[39m.\u001b[39;49mcalc_similarity(query, c))\n\u001b[1;32m    842\u001b[0m     \u001b[39mreturn\u001b[39;00m scores\n\u001b[1;32m    843\u001b[0m \u001b[39mif\u001b[39;00m \u001b[39mnot\u001b[39;00m \u001b[39misinstance\u001b[39m(candidate, np\u001b[39m.\u001b[39mndarray):\n",
      "File \u001b[0;32m~/code/FEPOPS/src/fepops/fepops.py:856\u001b[0m, in \u001b[0;36mOpenFEPOPS.calc_similarity\u001b[0;34m(self, query, candidate)\u001b[0m\n\u001b[1;32m    854\u001b[0m q \u001b[39m=\u001b[39m np\u001b[39m.\u001b[39mnan_to_num(((query \u001b[39m-\u001b[39m \u001b[39mself\u001b[39m\u001b[39m.\u001b[39mdescriptor_means) \u001b[39m/\u001b[39m \u001b[39mself\u001b[39m\u001b[39m.\u001b[39mdescriptor_stds),nan\u001b[39m=\u001b[39m\u001b[39m1e-9\u001b[39m)\n\u001b[1;32m    855\u001b[0m c \u001b[39m=\u001b[39m np\u001b[39m.\u001b[39mnan_to_num((candidate \u001b[39m-\u001b[39m \u001b[39mself\u001b[39m\u001b[39m.\u001b[39mdescriptor_means) \u001b[39m/\u001b[39m \u001b[39mself\u001b[39m\u001b[39m.\u001b[39mdescriptor_stds, nan\u001b[39m=\u001b[39m\u001b[39m1e-9\u001b[39m)\n\u001b[0;32m--> 856\u001b[0m \u001b[39mreturn\u001b[39;00m \u001b[39mself\u001b[39;49m\u001b[39m.\u001b[39;49mpairwise_correlation(q\u001b[39m.\u001b[39;49mflatten(), c\u001b[39m.\u001b[39;49mflatten())\n",
      "File \u001b[0;32m~/code/FEPOPS/src/fepops/fepops.py:795\u001b[0m, in \u001b[0;36mOpenFEPOPS.pairwise_correlation\u001b[0;34m(self, A, B)\u001b[0m\n\u001b[1;32m    792\u001b[0m am \u001b[39m=\u001b[39m A \u001b[39m-\u001b[39m np\u001b[39m.\u001b[39mmean(A, axis\u001b[39m=\u001b[39m\u001b[39m0\u001b[39m, keepdims\u001b[39m=\u001b[39m\u001b[39mTrue\u001b[39;00m)\n\u001b[1;32m    793\u001b[0m bm \u001b[39m=\u001b[39m B \u001b[39m-\u001b[39m np\u001b[39m.\u001b[39mmean(B, axis\u001b[39m=\u001b[39m\u001b[39m0\u001b[39m, keepdims\u001b[39m=\u001b[39m\u001b[39mTrue\u001b[39;00m)\n\u001b[1;32m    794\u001b[0m \u001b[39mreturn\u001b[39;00m (\n\u001b[0;32m--> 795\u001b[0m     am\u001b[39m.\u001b[39;49mT\n\u001b[1;32m    796\u001b[0m     \u001b[39m@\u001b[39;49m bm\n\u001b[1;32m    797\u001b[0m     \u001b[39m/\u001b[39m (\n\u001b[1;32m    798\u001b[0m         np\u001b[39m.\u001b[39msqrt(np\u001b[39m.\u001b[39msum(am\u001b[39m*\u001b[39m\u001b[39m*\u001b[39m\u001b[39m2\u001b[39m, axis\u001b[39m=\u001b[39m\u001b[39m0\u001b[39m, keepdims\u001b[39m=\u001b[39m\u001b[39mTrue\u001b[39;00m))\u001b[39m.\u001b[39mT\n\u001b[1;32m    799\u001b[0m         \u001b[39m*\u001b[39m np\u001b[39m.\u001b[39msqrt(np\u001b[39m.\u001b[39msum(bm\u001b[39m*\u001b[39m\u001b[39m*\u001b[39m\u001b[39m2\u001b[39m, axis\u001b[39m=\u001b[39m\u001b[39m0\u001b[39m, keepdims\u001b[39m=\u001b[39m\u001b[39mTrue\u001b[39;00m))\n\u001b[1;32m    800\u001b[0m     )\n\u001b[1;32m    801\u001b[0m )\n",
      "\u001b[0;31mValueError\u001b[0m: matmul: Input operand 1 has a mismatch in its core dimension 0, with gufunc signature (n?,k),(k,m?)->(n?,m?) (size 88 is different from 154)"
     ]
    }
   ],
   "source": [
    "fb = FepopsBenchmarker(\"data/dude/processed/diversity_set/dude_target_cxcr4.db\")\n",
    "fb.auroc_performance(\"data/dude/processed/diversity_set/dude_target_cxcr4.csv\")"
   ]
  },
  {
   "cell_type": "code",
   "execution_count": 8,
   "metadata": {},
   "outputs": [
    {
     "data": {
      "text/html": [
       "<div>\n",
       "<style scoped>\n",
       "    .dataframe tbody tr th:only-of-type {\n",
       "        vertical-align: middle;\n",
       "    }\n",
       "\n",
       "    .dataframe tbody tr th {\n",
       "        vertical-align: top;\n",
       "    }\n",
       "\n",
       "    .dataframe thead th {\n",
       "        text-align: right;\n",
       "    }\n",
       "</style>\n",
       "<table border=\"1\" class=\"dataframe\">\n",
       "  <thead>\n",
       "    <tr style=\"text-align: right;\">\n",
       "      <th>similarity_method</th>\n",
       "      <th>Morgan 2</th>\n",
       "      <th>OpenFEPOPS</th>\n",
       "    </tr>\n",
       "    <tr>\n",
       "      <th>target</th>\n",
       "      <th></th>\n",
       "      <th></th>\n",
       "    </tr>\n",
       "  </thead>\n",
       "  <tbody>\n",
       "    <tr>\n",
       "      <th>akt1</th>\n",
       "      <td>0.835717</td>\n",
       "      <td>0.828947</td>\n",
       "    </tr>\n",
       "    <tr>\n",
       "      <th>ampc</th>\n",
       "      <td>0.783629</td>\n",
       "      <td>0.639115</td>\n",
       "    </tr>\n",
       "    <tr>\n",
       "      <th>cp3a4</th>\n",
       "      <td>0.602774</td>\n",
       "      <td>0.649807</td>\n",
       "    </tr>\n",
       "    <tr>\n",
       "      <th>cxcr4</th>\n",
       "      <td>0.697226</td>\n",
       "      <td>0.898971</td>\n",
       "    </tr>\n",
       "    <tr>\n",
       "      <th>gcr</th>\n",
       "      <td>0.670138</td>\n",
       "      <td>0.616173</td>\n",
       "    </tr>\n",
       "    <tr>\n",
       "      <th>hivpr</th>\n",
       "      <td>0.779689</td>\n",
       "      <td>0.677882</td>\n",
       "    </tr>\n",
       "    <tr>\n",
       "      <th>hivrt</th>\n",
       "      <td>0.651011</td>\n",
       "      <td>0.583981</td>\n",
       "    </tr>\n",
       "    <tr>\n",
       "      <th>kif11</th>\n",
       "      <td>0.763058</td>\n",
       "      <td>0.713152</td>\n",
       "    </tr>\n",
       "  </tbody>\n",
       "</table>\n",
       "</div>"
      ],
      "text/plain": [
       "similarity_method  Morgan 2  OpenFEPOPS\n",
       "target                                 \n",
       "akt1               0.835717    0.828947\n",
       "ampc               0.783629    0.639115\n",
       "cp3a4              0.602774    0.649807\n",
       "cxcr4              0.697226    0.898971\n",
       "gcr                0.670138    0.616173\n",
       "hivpr              0.779689    0.677882\n",
       "hivrt              0.651011    0.583981\n",
       "kif11              0.763058    0.713152"
      ]
     },
     "execution_count": 8,
     "metadata": {},
     "output_type": "execute_result"
    }
   ],
   "source": [
    "pd.concat([pd.read_csv(f) for f in Path(\"data/dude/processed/diversity_set/\").glob(\"res_df*.csv\")]).pivot(values='average_auroc_score',index='target', columns=['similarity_method'],)"
   ]
  },
  {
   "cell_type": "code",
   "execution_count": 13,
   "metadata": {},
   "outputs": [
    {
     "name": "stdout",
     "output_type": "stream",
     "text": [
      "kif11 MannwhitneyuResult(statistic=9756.0, pvalue=3.1618616130522878e-09)\n",
      "hivrt MannwhitneyuResult(statistic=88174.0, pvalue=2.122934919642773e-34)\n",
      "hivpr MannwhitneyuResult(statistic=226147.0, pvalue=1.1956892799046625e-60)\n",
      "ampc MannwhitneyuResult(statistic=1726.0, pvalue=2.640883442863102e-05)\n",
      "cxcr4 MannwhitneyuResult(statistic=163.0, pvalue=9.077946053273235e-10)\n",
      "gcr MannwhitneyuResult(statistic=46891.0, pvalue=9.287514714384349e-16)\n",
      "cp3a4 MannwhitneyuResult(statistic=8847.0, pvalue=6.31954006944608e-10)\n",
      "akt1 MannwhitneyuResult(statistic=45065.0, pvalue=0.29635499822019484)\n"
     ]
    }
   ],
   "source": [
    "from scipy.stats import mannwhitneyu\n",
    "fepops_benchmark_performance_df=pd.concat([pd.read_csv(f) for f in Path(\"data/dude/processed/diversity_set/\").glob(\"res_df*.csv\")]).pivot(values='average_auroc_score',index='target', columns=['similarity_method'],)\n",
    "for target, scores_by_sm in {f.stem.split(\"_\")[-1]:json.load(open(f)) for f in Path(\"data/dude/processed/diversity_set/\").glob(\"res_scores*.json\")}.items():\n",
    "    print(target, mannwhitneyu(*scores_by_sm.values()))"
   ]
  }
 ],
 "metadata": {
  "kernelspec": {
   "display_name": "fepops",
   "language": "python",
   "name": "python3"
  },
  "language_info": {
   "codemirror_mode": {
    "name": "ipython",
    "version": 3
   },
   "file_extension": ".py",
   "mimetype": "text/x-python",
   "name": "python",
   "nbconvert_exporter": "python",
   "pygments_lexer": "ipython3",
   "version": "3.11.3"
  },
  "orig_nbformat": 4
 },
 "nbformat": 4,
 "nbformat_minor": 2
}
