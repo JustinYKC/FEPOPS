{
 "cells": [
  {
   "cell_type": "markdown",
   "metadata": {},
   "source": [
    "# Prepare the DUDE database for analysis"
   ]
  },
  {
   "cell_type": "markdown",
   "metadata": {},
   "source": [
    "Perform preprocessing on the DUDE database.  Assumes that the DUDE database has been downloaded and placed in the path \"data/dude/unprocessed\". Here, we expect directories for each target containing 'actives_final.ism' and 'decoys_final.ism'.\n",
    "It may be beneficial to split the below out of this Jupyter notebook and deploy to HPC or a non interactive environment. To pre-cache descriptors, run cache_mols_from_csv() on the DudePreprocessor object below.\n",
    "\n",
    "The step may also be skipped by downloading the OpenFEPOPS-DUDE data directory created for analysis of the DUDE diversity set from FigShare at https://doi.org/10.6084/m9.figshare.23951445.v2."
   ]
  },
  {
   "cell_type": "code",
   "execution_count": 1,
   "metadata": {},
   "outputs": [
    {
     "name": "stdout",
     "output_type": "stream",
     "text": [
      "data/dude/\n",
      "Processing the following DUDE targets: []\n"
     ]
    },
    {
     "name": "stderr",
     "output_type": "stream",
     "text": [
      "Preparing targets: 0it [00:00, ?it/s]\n"
     ]
    }
   ],
   "source": [
    "from fepops.utils import DudePreprocessor\n",
    "dude_preprocessor=DudePreprocessor()\n",
    "dude_preprocessor()"
   ]
  },
  {
   "cell_type": "markdown",
   "metadata": {},
   "source": [
    "# Analyse the DUDE diversity set and obtain mean and standard deviations for each 'standard' set of FEPOPS descriptors"
   ]
  },
  {
   "cell_type": "markdown",
   "metadata": {},
   "source": [
    "Below, we read in the DUDE diversity set and gather the mean and standard deviation of the produced FEPOPS descriptors and use these values as defaults for scaling (before scoring) all FEPOPS descriptors. Before running this, there should be 8 targets:\n",
    "\n",
    "* akt1\n",
    "* ampc\n",
    "* cp3a4\n",
    "* cxcr4\n",
    "* gcr\n",
    "* hivpr\n",
    "* hivrt\n",
    "* kif11\n",
    "\n",
    "represented by their associated .csv and .db files present in the data/dude/processed/diversity_set/ directory"
   ]
  },
  {
   "cell_type": "code",
   "execution_count": 1,
   "metadata": {},
   "outputs": [
    {
     "name": "stdout",
     "output_type": "stream",
     "text": [
      "Working on data/dude/processed/diversity_set/dude_target_kif11.csv\n"
     ]
    },
    {
     "name": "stderr",
     "output_type": "stream",
     "text": [
      "100%|██████████| 6966/6966 [00:02<00:00, 2522.41it/s]\n"
     ]
    },
    {
     "name": "stdout",
     "output_type": "stream",
     "text": [
      "Working on data/dude/processed/diversity_set/dude_target_hivrt.csv\n"
     ]
    },
    {
     "name": "stderr",
     "output_type": "stream",
     "text": [
      "100%|██████████| 19229/19229 [00:07<00:00, 2640.52it/s]\n"
     ]
    },
    {
     "name": "stdout",
     "output_type": "stream",
     "text": [
      "Working on data/dude/processed/diversity_set/dude_target_cxcr4.csv\n"
     ]
    },
    {
     "name": "stderr",
     "output_type": "stream",
     "text": [
      "100%|██████████| 3446/3446 [00:01<00:00, 2641.72it/s]\n"
     ]
    },
    {
     "name": "stdout",
     "output_type": "stream",
     "text": [
      "Working on data/dude/processed/diversity_set/dude_target_ampc.csv\n"
     ]
    },
    {
     "name": "stderr",
     "output_type": "stream",
     "text": [
      "100%|██████████| 2898/2898 [00:00<00:00, 3033.43it/s]\n"
     ]
    },
    {
     "name": "stdout",
     "output_type": "stream",
     "text": [
      "Working on data/dude/processed/diversity_set/dude_target_gcr.csv\n"
     ]
    },
    {
     "name": "stderr",
     "output_type": "stream",
     "text": [
      " 66%|██████▋   | 10142/15258 [00:04<00:02, 2546.86it/s][22:46:45] Explicit valence for atom # 12 N, 5, is greater than permitted\n",
      " 70%|██████▉   | 10663/15258 [00:04<00:01, 2571.43it/s]"
     ]
    },
    {
     "name": "stdout",
     "output_type": "stream",
     "text": [
      "Could not parse smiles to a valid molecule, smiles was: N#CC(NC(=O)c1ccccc1)=N1=C(c2ccccc2)C=C(c2ccccc2)C=C1c1ccccc1\n"
     ]
    },
    {
     "name": "stderr",
     "output_type": "stream",
     "text": [
      "100%|██████████| 15258/15258 [00:06<00:00, 2433.03it/s]\n"
     ]
    },
    {
     "name": "stdout",
     "output_type": "stream",
     "text": [
      "Working on data/dude/processed/diversity_set/dude_target_cp3a4.csv\n"
     ]
    },
    {
     "name": "stderr",
     "output_type": "stream",
     "text": [
      "100%|██████████| 11970/11970 [00:05<00:00, 2326.70it/s]\n"
     ]
    },
    {
     "name": "stdout",
     "output_type": "stream",
     "text": [
      "Working on data/dude/processed/diversity_set/dude_target_akt1.csv\n"
     ]
    },
    {
     "name": "stderr",
     "output_type": "stream",
     "text": [
      "100%|██████████| 16743/16743 [00:06<00:00, 2414.06it/s]\n"
     ]
    },
    {
     "name": "stdout",
     "output_type": "stream",
     "text": [
      "Working on data/dude/processed/diversity_set/dude_target_hivpr.csv\n"
     ]
    },
    {
     "name": "stderr",
     "output_type": "stream",
     "text": [
      "100%|██████████| 36286/36286 [00:16<00:00, 2257.40it/s]\n"
     ]
    },
    {
     "data": {
      "text/plain": [
       "'Mean:'"
      ]
     },
     "metadata": {},
     "output_type": "display_data"
    },
    {
     "data": {
      "text/plain": [
       "array([-0.28971602,  0.5181022 ,  0.37487135,  0.99922747, -0.04187301,\n",
       "        1.03382471,  0.27407036,  0.99853436,  0.09725517,  1.12824307,\n",
       "        0.23735556,  0.99882914,  0.35977538,  0.66653514,  0.41238282,\n",
       "        0.99902545,  5.71261449,  6.37716992,  6.47293777,  6.26134733,\n",
       "        6.20354385,  6.23201498])"
      ]
     },
     "metadata": {},
     "output_type": "display_data"
    },
    {
     "data": {
      "text/plain": [
       "'Std:'"
      ]
     },
     "metadata": {},
     "output_type": "display_data"
    },
    {
     "data": {
      "text/plain": [
       "array([0.35110473, 1.00839329, 0.4838859 , 0.02769204, 0.15418035,\n",
       "       0.86446056, 0.44583626, 0.0381767 , 0.16095862, 0.92079483,\n",
       "       0.42526185, 0.03413741, 0.35756229, 1.36093993, 0.4921059 ,\n",
       "       0.0311619 , 1.9668792 , 2.31266486, 2.50699385, 2.41269982,\n",
       "       2.30018205, 2.31527129])"
      ]
     },
     "metadata": {},
     "output_type": "display_data"
    }
   ],
   "source": [
    "from pathlib import Path\n",
    "from tqdm import tqdm\n",
    "from fepops.fepops_persistent import get_persistent_fepops_storage_object\n",
    "import numpy as np\n",
    "dude_diversity_set_path=Path(\"data/dude/processed/diversity_set/\")\n",
    "diversity_target_files=list(dude_diversity_set_path.glob(\"dude_target_*.csv\"))\n",
    "descriptors=[]\n",
    "for diversity_target in diversity_target_files:\n",
    "    f=get_persistent_fepops_storage_object(diversity_target.with_suffix(\".db\"))\n",
    "    print(f\"Working on {diversity_target}\")\n",
    "    for (orig_smi, dude_id, chemblid, active_flag, can_smi) in tqdm([l.strip().split(\",\") for l in open(diversity_target).readlines()[1:] if len(l)>3]):\n",
    "        status, retrieved_descriptors=f.get_fepops(can_smi)\n",
    "        if status.value ==1:\n",
    "            for d in retrieved_descriptors:\n",
    "                descriptors.append(d)\n",
    "            \n",
    "descriptors=np.array(descriptors)\n",
    "display(\"Mean:\", descriptors.mean(axis=0))\n",
    "display(\"Std:\", descriptors.std(axis=0))"
   ]
  },
  {
   "cell_type": "markdown",
   "metadata": {},
   "source": [
    "# Benchmark FEPOPS using the DUDE diversity set\n",
    "Collect AUROC scores and compare against Morgan 2 and RDKit fingeprints\n",
    "<hr>"
   ]
  },
  {
   "cell_type": "markdown",
   "metadata": {},
   "source": [
    "Perform imports, define similarity methods (except OpenFEPOPS which will be defined upon target assessment in order to load cached descriptors)"
   ]
  },
  {
   "cell_type": "code",
   "execution_count": 2,
   "metadata": {},
   "outputs": [
    {
     "name": "stdout",
     "output_type": "stream",
     "text": [
      "Got 1 diversity_set_csv_files : ['dude_target_ampc']\n"
     ]
    }
   ],
   "source": [
    "import numpy as np\n",
    "from tqdm import tqdm\n",
    "\n",
    "from dataclasses import dataclass\n",
    "from typing import Callable, Optional\n",
    "from pathlib import Path\n",
    "import pandas as pd\n",
    "from rdkit import Chem\n",
    "\n",
    "from rdkit.Chem import rdMolDescriptors\n",
    "from rdkit.Chem import AllChem\n",
    "from rdkit.Chem import DataStructs\n",
    "from sklearn.metrics import roc_auc_score\n",
    "from fepops import OpenFEPOPS\n",
    "from fepops.fepops_persistent import get_persistent_fepops_storage_object\n",
    "from fepops.fepops import GetFepopStatusCode\n",
    "import json\n",
    "\n",
    "open_fepops_object=OpenFEPOPS()\n",
    "\n",
    "@dataclass\n",
    "class SimilarityMethod:\n",
    "    name: str\n",
    "    supports_multiple_candidates: bool\n",
    "    descriptor_calc_func: Optional[Callable] = None\n",
    "    descriptor_score_func: Optional[Callable] = None\n",
    "\n",
    "\n",
    "# OpenFEPOPS will be added to this as a persistent object, reading from a DB of cached\n",
    "# molecules for each target in the diversity set\n",
    "similarity_methods = {\n",
    "    'Morgan 2': SimilarityMethod(\n",
    "        \"Morgan 2\",\n",
    "        False,\n",
    "        lambda x: AllChem.GetMorganFingerprint(x, 2),\n",
    "        lambda x, y: DataStructs.TanimotoSimilarity(x,y),\n",
    "    ),\n",
    "    'MACCS': SimilarityMethod(\n",
    "        \"MACCS\",\n",
    "        False,\n",
    "        lambda x: rdMolDescriptors.GetMACCSKeysFingerprint(x),\n",
    "        lambda x, y: DataStructs.TanimotoSimilarity(x,y),\n",
    "    ),\n",
    "    'RDKit': SimilarityMethod(\n",
    "        \"RDKit\",\n",
    "        False,\n",
    "        lambda x: Chem.RDKFingerprint(x,maxPath=4),\n",
    "        lambda x, y: DataStructs.TanimotoSimilarity(x,y),\n",
    "    ),\n",
    "}\n",
    "\n",
    "diversity_set_csv_files = list(Path(\"data/dude/processed/diversity_set/\").glob(\"dude_target_hiv*.csv\"))\n",
    "\n",
    "# Write all CSVs to SMILES files\n",
    "print(f\"Got {len(diversity_set_csv_files)} diversity_set_csv_files : {[f.stem for f in diversity_set_csv_files]}\")\n",
    "for csv_file_path in diversity_set_csv_files:\n",
    "    pd.read_csv(csv_file_path,sep=\",\",\n",
    "        index_col=[0],\n",
    "        header=0,\n",
    "        ).loc[:,['rdkit_canonical_smiles', 'DUDEID']].reset_index().to_csv(csv_file_path.with_suffix(\".smi\"), sep=\" \", index=None, header=False)\n",
    "    "
   ]
  },
  {
   "cell_type": "markdown",
   "metadata": {},
   "source": [
    "Perform AUROC score calculation"
   ]
  },
  {
   "cell_type": "code",
   "execution_count": 10,
   "metadata": {},
   "outputs": [
    {
     "name": "stdout",
     "output_type": "stream",
     "text": [
      "                                              SMILES DUDEID  CHEMBLID  Active  \\\n",
      "0     S(Nc1c(O)cc(C(=O)O)cc1)(c2c(scc2)C(=O)O)(=O)=O    116       NaN       1   \n",
      "1       S(Nc1ccc(C(=O)O)cc1)(c2ccsc2C(=O)[O-])(=O)=O    113       NaN       1   \n",
      "2       S(Nc1cccc(c1)C(=O)O)(c2ccsc2C(=O)[O-])(=O)=O    114       NaN       1   \n",
      "3   S(Nc1ccc(C(=O)O)c(c1)Cl)(c2ccsc2C(=O)[O-])(=O)=O    115       NaN       1   \n",
      "4  OC(=O)[C@@H](CC1=CC=CC2=CC=CC=C12)N1C(=O)C2=C(...    211       NaN       1   \n",
      "\n",
      "                              rdkit_canonical_smiles  \n",
      "0         O=C(O)c1ccc(NS(=O)(=O)c2ccsc2C(=O)O)c(O)c1  \n",
      "1         O=C(O)c1ccc(NS(=O)(=O)c2ccsc2C(=O)[O-])cc1  \n",
      "2         O=C(O)c1cccc(NS(=O)(=O)c2ccsc2C(=O)[O-])c1  \n",
      "3       O=C(O)c1ccc(NS(=O)(=O)c2ccsc2C(=O)[O-])cc1Cl  \n",
      "4  O=C(O)c1ccc2c(c1)C(=O)N([C@H](Cc1cccc3ccccc13)...  \n"
     ]
    },
    {
     "name": "stderr",
     "output_type": "stream",
     "text": [
      "Caching Morgan 2 descriptors for dude_target_ampc: 2898it [00:00, 6261.77it/s]\n",
      "Caching MACCS descriptors for dude_target_ampc: 2898it [00:01, 1745.90it/s]\n",
      "Caching RDKit descriptors for dude_target_ampc: 2898it [00:00, 3455.80it/s]\n",
      "Caching OpenFEPOPS descriptors for dude_target_ampc: 585it [00:00, 2932.53it/s]"
     ]
    },
    {
     "name": "stdout",
     "output_type": "stream",
     "text": [
      "Problem with Cc1ccc([C@H]2[C@@]([O-])([C@H](O)CO)[C@]3(O)[C@@H](c4ccc(C)cc4)[C@H]([O-])[C@@]23[O-])cc1, (<GetFepopStatusCode.FAILED_RETRIEVED_NONE: 4>, None)\n"
     ]
    },
    {
     "name": "stderr",
     "output_type": "stream",
     "text": [
      "Caching OpenFEPOPS descriptors for dude_target_ampc: 2898it [00:00, 3002.50it/s]\n",
      "Assessing active recall (AUROC) for Morgan 2: 100%|██████████| 48/48 [00:00<00:00, 135.08it/s]\n",
      "Assessing active recall (AUROC) for MACCS: 100%|██████████| 48/48 [00:00<00:00, 203.02it/s]\n",
      "Assessing active recall (AUROC) for RDKit: 100%|██████████| 48/48 [00:00<00:00, 200.67it/s]\n",
      "Assessing active recall (AUROC) for OpenFEPOPS: 100%|██████████| 48/48 [00:06<00:00,  7.04it/s]"
     ]
    },
    {
     "name": "stdout",
     "output_type": "stream",
     "text": [
      "Writing to  data/dude/processed/diversity_set\n",
      "  target similarity_method smiles_count actives_count failed_smiles  \\\n",
      "0   ampc          Morgan 2         2898            48             1   \n",
      "1   ampc             MACCS         2898            48             1   \n",
      "2   ampc             RDKit         2898            48             1   \n",
      "3   ampc        OpenFEPOPS         2898            48             1   \n",
      "\n",
      "  failed_active_smiles average_auroc_score median_auroc_score q1_auroc_score  \\\n",
      "0                    0            0.783629           0.831864       0.315866   \n",
      "1                    0             0.67331           0.711149       0.365732   \n",
      "2                    0            0.659837           0.662738       0.349989   \n",
      "3                    0            0.639413           0.736706        0.22802   \n",
      "\n",
      "  q3_auroc_score  \n",
      "0       0.321303  \n",
      "1       0.377163  \n",
      "2       0.361342  \n",
      "3        0.23266  \n"
     ]
    },
    {
     "name": "stderr",
     "output_type": "stream",
     "text": [
      "\n"
     ]
    }
   ],
   "source": [
    "auroc_scores_info_df=pd.DataFrame()\n",
    "\n",
    "for csv_file_path in diversity_set_csv_files:\n",
    "    \n",
    "    # We replace the OpenFepops similarity object at each new diversity CSV file\n",
    "    # so that new databases may be loaded for speed of descriptor retrieval.\n",
    "    ofepops_persistent=get_persistent_fepops_storage_object(csv_file_path.with_suffix(\".db\"))\n",
    "    similarity_methods['OpenFEPOPS']=SimilarityMethod(\n",
    "        \"OpenFEPOPS\",\n",
    "        True,\n",
    "        lambda x: ofepops_persistent.get_fepops(x, is_canonical=True),\n",
    "        ofepops_persistent.calc_similarity,\n",
    "    )\n",
    "    \n",
    "    df=pd.read_csv(csv_file_path,sep=\",\",\n",
    "                index_col=[0],\n",
    "                header=0,\n",
    "            ).reset_index()\n",
    "    print(df.head())\n",
    "    descriptors={k:[] for k in similarity_methods.keys()}\n",
    "    smiles_list = df['rdkit_canonical_smiles'].tolist()\n",
    "    labels_list = df['Active'].astype(int).tolist()\n",
    "    problematic_compound_indexes=[]\n",
    "    for sm_name, sm in similarity_methods.items():\n",
    "        # Cache all descriptors for each molecular similarity technique, as some mols may be bad and have to be removed\n",
    "        for smiles_i, smiles in tqdm(enumerate(smiles_list), desc=f\"Caching {sm_name} descriptors for {csv_file_path.stem}\"):\n",
    "            mol_from_smiles=open_fepops_object._mol_from_smiles(smiles)\n",
    "            if mol_from_smiles is None:\n",
    "                problematic_compound_indexes.append(smiles_i)\n",
    "                descriptors[sm_name].append(np.nan)\n",
    "            else:\n",
    "                res = sm.descriptor_calc_func(mol_from_smiles)\n",
    "                if isinstance(res, tuple):\n",
    "                    if res[0]==GetFepopStatusCode.FAILED_RETRIEVED_NONE or res[0]==GetFepopStatusCode.FAILED_TO_GENERATE or res[0]==GetFepopStatusCode.FAILED_TO_RETRIEVE or res[1] is None:\n",
    "                        print(f\"Problem with {smiles}, {res}\")\n",
    "                        problematic_compound_indexes.append(smiles_i)\n",
    "                        descriptors[sm_name].append(np.nan)\n",
    "                    else:                    \n",
    "                        descriptors[sm_name].append(res[-1])\n",
    "                else:\n",
    "                    if res is None:\n",
    "                        problematic_compound_indexes.append(smiles_i)\n",
    "                    descriptors[sm_name].append(res)\n",
    "    # Remove failed molecules from pool of descriptors and labels\n",
    "    for k,v in descriptors.items():\n",
    "        descriptors[k]=[v[ii] for ii in range(len(v)) if ii not in problematic_compound_indexes]\n",
    "    labels_list=[labels_list[ii] for ii in range(len(labels_list)) if ii not in problematic_compound_indexes]\n",
    "    auroc_scores={smn:[] for smn in similarity_methods.keys()}\n",
    "    \n",
    "    info=pd.Series(dtype=object)\n",
    "    for sm_name, sm in similarity_methods.items():\n",
    "        # Remove entries which did not return a mol\n",
    "        info['target']=csv_file_path.stem.replace(\"dude_target_\",\"\")\n",
    "        info['similarity_method']=sm_name\n",
    "        info['smiles_count']=len(smiles_list)\n",
    "        info['actives_count']=np.sum(labels_list)\n",
    "        info['failed_smiles']=len(problematic_compound_indexes)\n",
    "        info['failed_active_smiles']=len([ft for ft in problematic_compound_indexes if labels_list[ft]==1])\n",
    "        for active_i in tqdm(\n",
    "                np.argwhere(np.array(labels_list) == 1).flatten(),\n",
    "                desc=f\"Assessing active recall (AUROC) for {sm.name}\",\n",
    "            ):\n",
    "            if sm.supports_multiple_candidates:\n",
    "                scores = np.array(\n",
    "                    sm.descriptor_score_func(\n",
    "                        descriptors[sm_name][active_i], descriptors[sm_name]\n",
    "                    ),\n",
    "                    dtype=float,\n",
    "                ).flatten()\n",
    "            else:\n",
    "                scores = np.array(\n",
    "                    [\n",
    "                        sm.descriptor_score_func(\n",
    "                            descriptors[sm_name][active_i], descriptors[sm_name][smiles_i]\n",
    "                        )\n",
    "                        for smiles_i in range(len(descriptors[sm_name]))\n",
    "                    ],\n",
    "                    dtype=float,\n",
    "                ).flatten()\n",
    "            \n",
    "            auroc_scores[sm_name].append(roc_auc_score(\n",
    "                np.array(labels_list)[np.argwhere(~np.isnan(scores))],\n",
    "                scores[np.argwhere(~np.isnan(scores))],\n",
    "                )\n",
    "            )\n",
    "        info['average_auroc_score']=np.mean(auroc_scores[sm_name])\n",
    "        info['median_auroc_score']=np.median(auroc_scores[sm_name])\n",
    "        info['q1_auroc_score']=np.percentile(auroc_scores[sm_name],0.25)\n",
    "        info['q3_auroc_score']=np.percentile(auroc_scores[sm_name],0.75)\n",
    "        auroc_scores_info_df=pd.concat([auroc_scores_info_df, info.to_frame().T], ignore_index=True, axis=0)\n",
    "    print(\"Writing to \", csv_file_path.parent)\n",
    "\n",
    "    json.dump(auroc_scores,open(csv_file_path.parent/Path(f\"res_scores_{csv_file_path.stem}.json\"),\"w\"))\n",
    "    auroc_scores_info_df.to_csv(csv_file_path.parent/Path(f\"res_df_{csv_file_path.stem}.csv\"))\n",
    "print(auroc_scores_info_df)\n",
    "    "
   ]
  },
  {
   "cell_type": "markdown",
   "metadata": {},
   "source": [
    "Output summary AUROC results table as shown in the paper"
   ]
  },
  {
   "cell_type": "code",
   "execution_count": 15,
   "metadata": {},
   "outputs": [
    {
     "data": {
      "text/html": [
       "<div>\n",
       "<style scoped>\n",
       "    .dataframe tbody tr th:only-of-type {\n",
       "        vertical-align: middle;\n",
       "    }\n",
       "\n",
       "    .dataframe tbody tr th {\n",
       "        vertical-align: top;\n",
       "    }\n",
       "\n",
       "    .dataframe thead th {\n",
       "        text-align: right;\n",
       "    }\n",
       "</style>\n",
       "<table border=\"1\" class=\"dataframe\">\n",
       "  <thead>\n",
       "    <tr style=\"text-align: right;\">\n",
       "      <th>similarity_method</th>\n",
       "      <th>Morgan 2</th>\n",
       "      <th>RDKit</th>\n",
       "      <th>MACCS</th>\n",
       "      <th>OpenFEPOPS</th>\n",
       "    </tr>\n",
       "    <tr>\n",
       "      <th>target</th>\n",
       "      <th></th>\n",
       "      <th></th>\n",
       "      <th></th>\n",
       "      <th></th>\n",
       "    </tr>\n",
       "  </thead>\n",
       "  <tbody>\n",
       "    <tr>\n",
       "      <th>akt1</th>\n",
       "      <td>0.835717</td>\n",
       "      <td>0.833538</td>\n",
       "      <td>0.741306</td>\n",
       "      <td>0.831254</td>\n",
       "    </tr>\n",
       "    <tr>\n",
       "      <th>ampc</th>\n",
       "      <td>0.783629</td>\n",
       "      <td>0.659837</td>\n",
       "      <td>0.673310</td>\n",
       "      <td>0.639413</td>\n",
       "    </tr>\n",
       "    <tr>\n",
       "      <th>cp3a4</th>\n",
       "      <td>0.602774</td>\n",
       "      <td>0.613335</td>\n",
       "      <td>0.581545</td>\n",
       "      <td>0.647462</td>\n",
       "    </tr>\n",
       "    <tr>\n",
       "      <th>cxcr4</th>\n",
       "      <td>0.697226</td>\n",
       "      <td>0.592485</td>\n",
       "      <td>0.854251</td>\n",
       "      <td>0.899027</td>\n",
       "    </tr>\n",
       "    <tr>\n",
       "      <th>gcr</th>\n",
       "      <td>0.670082</td>\n",
       "      <td>0.708346</td>\n",
       "      <td>0.665830</td>\n",
       "      <td>0.616228</td>\n",
       "    </tr>\n",
       "    <tr>\n",
       "      <th>hivpr</th>\n",
       "      <td>0.779684</td>\n",
       "      <td>0.759303</td>\n",
       "      <td>0.681231</td>\n",
       "      <td>0.678182</td>\n",
       "    </tr>\n",
       "    <tr>\n",
       "      <th>hivrt</th>\n",
       "      <td>0.651023</td>\n",
       "      <td>0.660070</td>\n",
       "      <td>0.669954</td>\n",
       "      <td>0.582240</td>\n",
       "    </tr>\n",
       "    <tr>\n",
       "      <th>kif11</th>\n",
       "      <td>0.763057</td>\n",
       "      <td>0.672469</td>\n",
       "      <td>0.667852</td>\n",
       "      <td>0.713142</td>\n",
       "    </tr>\n",
       "  </tbody>\n",
       "</table>\n",
       "</div>"
      ],
      "text/plain": [
       "similarity_method  Morgan 2     RDKit     MACCS  OpenFEPOPS\n",
       "target                                                     \n",
       "akt1               0.835717  0.833538  0.741306    0.831254\n",
       "ampc               0.783629  0.659837  0.673310    0.639413\n",
       "cp3a4              0.602774  0.613335  0.581545    0.647462\n",
       "cxcr4              0.697226  0.592485  0.854251    0.899027\n",
       "gcr                0.670082  0.708346  0.665830    0.616228\n",
       "hivpr              0.779684  0.759303  0.681231    0.678182\n",
       "hivrt              0.651023  0.660070  0.669954    0.582240\n",
       "kif11              0.763057  0.672469  0.667852    0.713142"
      ]
     },
     "metadata": {},
     "output_type": "display_data"
    }
   ],
   "source": [
    "display(pd.concat([pd.read_csv(f) for f in Path(\"data/dude/processed/diversity_set/\").glob(\"res_df*.csv\")]).pivot(values='average_auroc_score',index='target', columns=['similarity_method'],)[['Morgan 2', 'RDKit', 'MACCS', 'OpenFEPOPS']])"
   ]
  },
  {
   "cell_type": "markdown",
   "metadata": {},
   "source": [
    "Output an extended table with information on failed molecules etc"
   ]
  },
  {
   "cell_type": "code",
   "execution_count": 16,
   "metadata": {},
   "outputs": [
    {
     "data": {
      "text/html": [
       "<div>\n",
       "<style scoped>\n",
       "    .dataframe tbody tr th:only-of-type {\n",
       "        vertical-align: middle;\n",
       "    }\n",
       "\n",
       "    .dataframe tbody tr th {\n",
       "        vertical-align: top;\n",
       "    }\n",
       "\n",
       "    .dataframe thead th {\n",
       "        text-align: right;\n",
       "    }\n",
       "</style>\n",
       "<table border=\"1\" class=\"dataframe\">\n",
       "  <thead>\n",
       "    <tr style=\"text-align: right;\">\n",
       "      <th></th>\n",
       "      <th>MACCS</th>\n",
       "      <th>Morgan 2</th>\n",
       "      <th>OpenFEPOPS</th>\n",
       "      <th>RDKit</th>\n",
       "      <th>smiles_count</th>\n",
       "      <th>actives_count</th>\n",
       "      <th>failed_smiles</th>\n",
       "      <th>failed_active_smiles</th>\n",
       "    </tr>\n",
       "    <tr>\n",
       "      <th>target</th>\n",
       "      <th></th>\n",
       "      <th></th>\n",
       "      <th></th>\n",
       "      <th></th>\n",
       "      <th></th>\n",
       "      <th></th>\n",
       "      <th></th>\n",
       "      <th></th>\n",
       "    </tr>\n",
       "  </thead>\n",
       "  <tbody>\n",
       "    <tr>\n",
       "      <th>akt1</th>\n",
       "      <td>0.741306</td>\n",
       "      <td>0.835717</td>\n",
       "      <td>0.831254</td>\n",
       "      <td>0.833538</td>\n",
       "      <td>16743</td>\n",
       "      <td>293</td>\n",
       "      <td>0</td>\n",
       "      <td>0</td>\n",
       "    </tr>\n",
       "    <tr>\n",
       "      <th>ampc</th>\n",
       "      <td>0.673310</td>\n",
       "      <td>0.783629</td>\n",
       "      <td>0.639413</td>\n",
       "      <td>0.659837</td>\n",
       "      <td>2898</td>\n",
       "      <td>48</td>\n",
       "      <td>1</td>\n",
       "      <td>0</td>\n",
       "    </tr>\n",
       "    <tr>\n",
       "      <th>cp3a4</th>\n",
       "      <td>0.581545</td>\n",
       "      <td>0.602774</td>\n",
       "      <td>0.647462</td>\n",
       "      <td>0.613335</td>\n",
       "      <td>11970</td>\n",
       "      <td>170</td>\n",
       "      <td>4</td>\n",
       "      <td>0</td>\n",
       "    </tr>\n",
       "    <tr>\n",
       "      <th>cxcr4</th>\n",
       "      <td>0.854251</td>\n",
       "      <td>0.697226</td>\n",
       "      <td>0.899027</td>\n",
       "      <td>0.592485</td>\n",
       "      <td>3446</td>\n",
       "      <td>40</td>\n",
       "      <td>0</td>\n",
       "      <td>0</td>\n",
       "    </tr>\n",
       "    <tr>\n",
       "      <th>gcr</th>\n",
       "      <td>0.665830</td>\n",
       "      <td>0.670082</td>\n",
       "      <td>0.616228</td>\n",
       "      <td>0.708346</td>\n",
       "      <td>15258</td>\n",
       "      <td>258</td>\n",
       "      <td>10</td>\n",
       "      <td>0</td>\n",
       "    </tr>\n",
       "    <tr>\n",
       "      <th>hivpr</th>\n",
       "      <td>0.681231</td>\n",
       "      <td>0.779684</td>\n",
       "      <td>0.678182</td>\n",
       "      <td>0.759303</td>\n",
       "      <td>36286</td>\n",
       "      <td>535</td>\n",
       "      <td>2</td>\n",
       "      <td>1</td>\n",
       "    </tr>\n",
       "    <tr>\n",
       "      <th>hivrt</th>\n",
       "      <td>0.669954</td>\n",
       "      <td>0.651023</td>\n",
       "      <td>0.582240</td>\n",
       "      <td>0.660070</td>\n",
       "      <td>19229</td>\n",
       "      <td>338</td>\n",
       "      <td>8</td>\n",
       "      <td>0</td>\n",
       "    </tr>\n",
       "    <tr>\n",
       "      <th>kif11</th>\n",
       "      <td>0.667852</td>\n",
       "      <td>0.763057</td>\n",
       "      <td>0.713142</td>\n",
       "      <td>0.672469</td>\n",
       "      <td>6966</td>\n",
       "      <td>116</td>\n",
       "      <td>1</td>\n",
       "      <td>0</td>\n",
       "    </tr>\n",
       "  </tbody>\n",
       "</table>\n",
       "</div>"
      ],
      "text/plain": [
       "           MACCS  Morgan 2  OpenFEPOPS     RDKit  smiles_count  actives_count  \\\n",
       "target                                                                          \n",
       "akt1    0.741306  0.835717    0.831254  0.833538         16743            293   \n",
       "ampc    0.673310  0.783629    0.639413  0.659837          2898             48   \n",
       "cp3a4   0.581545  0.602774    0.647462  0.613335         11970            170   \n",
       "cxcr4   0.854251  0.697226    0.899027  0.592485          3446             40   \n",
       "gcr     0.665830  0.670082    0.616228  0.708346         15258            258   \n",
       "hivpr   0.681231  0.779684    0.678182  0.759303         36286            535   \n",
       "hivrt   0.669954  0.651023    0.582240  0.660070         19229            338   \n",
       "kif11   0.667852  0.763057    0.713142  0.672469          6966            116   \n",
       "\n",
       "        failed_smiles  failed_active_smiles  \n",
       "target                                       \n",
       "akt1                0                     0  \n",
       "ampc                1                     0  \n",
       "cp3a4               4                     0  \n",
       "cxcr4               0                     0  \n",
       "gcr                10                     0  \n",
       "hivpr               2                     1  \n",
       "hivrt               8                     0  \n",
       "kif11               1                     0  "
      ]
     },
     "metadata": {},
     "output_type": "display_data"
    }
   ],
   "source": [
    "display(pd.concat([pd.concat([pd.read_csv(f) for f in Path(\"data/dude/processed/diversity_set/\").glob(\"res_df*.csv\")]).pivot(values='average_auroc_score',index='target', columns=['similarity_method'],),pd.concat([pd.read_csv(f) for f in Path(\"data/dude/processed/diversity_set/\").glob(\"res_df*.csv\")]).query(\"similarity_method=='OpenFEPOPS'\")[['target','smiles_count','actives_count','failed_smiles','failed_active_smiles']].set_index(\"target\")], axis=1))"
   ]
  }
 ],
 "metadata": {
  "kernelspec": {
   "display_name": "fepops",
   "language": "python",
   "name": "python3"
  },
  "language_info": {
   "codemirror_mode": {
    "name": "ipython",
    "version": 3
   },
   "file_extension": ".py",
   "mimetype": "text/x-python",
   "name": "python",
   "nbconvert_exporter": "python",
   "pygments_lexer": "ipython3",
   "version": "3.11.3"
  },
  "orig_nbformat": 4
 },
 "nbformat": 4,
 "nbformat_minor": 2
}
